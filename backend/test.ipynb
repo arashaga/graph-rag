{
 "cells": [
  {
   "cell_type": "code",
   "execution_count": 2,
   "id": "702fbe12",
   "metadata": {},
   "outputs": [
    {
     "name": "stderr",
     "output_type": "stream",
     "text": [
      "ERROR:root:Exception while generating response stream: Something went wrong!\n",
      "Traceback (most recent call last):\n",
      "  File \"/tmp/ipykernel_84796/2622394548.py\", line 32, in format_as_ndjson\n",
      "    async for event in r:\n",
      "  File \"/tmp/ipykernel_84796/2622394548.py\", line 27, in generate_events\n",
      "    raise ValueError(\"Something went wrong!\")  # Simulate an error\n",
      "    ^^^^^^^^^^^^^^^^^^^^^^^^^^^^^^^^^^^^^^^^^\n",
      "ValueError: Something went wrong!\n"
     ]
    },
    {
     "name": "stdout",
     "output_type": "stream",
     "text": [
      "{\"user_id\": 1, \"action\": \"login\"}\n",
      "{\"user_id\": 2, \"action\": \"logout\"}\n",
      "{\"error\": \"Something went wrong!\"}\n"
     ]
    }
   ],
   "source": [
    "import json\n",
    "import dataclasses\n",
    "import logging\n",
    "from typing import AsyncGenerator\n",
    "\n",
    "# 1. Custom JSON Encoder for dataclasses\n",
    "class JSONEncoder(json.JSONEncoder):\n",
    "    def default(self, o):\n",
    "        if dataclasses.is_dataclass(o) and not isinstance(o, type):\n",
    "            return dataclasses.asdict(o)\n",
    "        return super().default(o)\n",
    "\n",
    "# 2. Example dataclass\n",
    "@dataclasses.dataclass\n",
    "class UserEvent:\n",
    "    user_id: int\n",
    "    action: str\n",
    "\n",
    "# 3. Error formatting\n",
    "def error_dict(error):\n",
    "    return {\"error\": str(error)}\n",
    "\n",
    "# 4. Simulated async generator that produces events\n",
    "async def generate_events() -> AsyncGenerator[dict, None]:\n",
    "    yield UserEvent(user_id=1, action=\"login\")\n",
    "    yield {\"user_id\": 2, \"action\": \"logout\"}\n",
    "    raise ValueError(\"Something went wrong!\")  # Simulate an error\n",
    "\n",
    "# 5. NDJSON formatter (your main block)\n",
    "async def format_as_ndjson(r: AsyncGenerator[dict, None]) -> AsyncGenerator[str, None]:\n",
    "    try:\n",
    "        async for event in r:\n",
    "            yield json.dumps(event, ensure_ascii=False, cls=JSONEncoder) + \"\\n\"\n",
    "    except Exception as error:\n",
    "        logging.exception(\"Exception while generating response stream: %s\", error)\n",
    "        yield json.dumps(error_dict(error)) + \"\\n\"\n",
    "\n",
    "# 6. Running and displaying the output in Jupyter\n",
    "async def print_ndjson_stream():\n",
    "    async for line in format_as_ndjson(generate_events()):\n",
    "        print(line, end=\"\")  # NDJSON already ends with \\n\n",
    "\n",
    "# In Jupyter: Run this cell with await\n",
    "await print_ndjson_stream()\n"
   ]
  },
  {
   "cell_type": "code",
   "execution_count": null,
   "id": "05e6404e",
   "metadata": {},
   "outputs": [],
   "source": [
    "# Azure Easy Auth Test Notebook\n",
    "\n",
    "import requests\n",
    "from urllib.parse import urljoin\n",
    "\n",
    "# Set your deployed app's base URL here (e.g., \"https://your-app.azurewebsites.net/\")\n",
    "BASE_URL = \"https://YOUR_APP_URL.azurewebsites.net/\"\n",
    "\n",
    "# 1. Helper to show login URL (manual - user must use browser for first login)\n",
    "login_url = urljoin(BASE_URL, \"/.auth/login/aad\")  # or change 'aad' to your provider\n",
    "print(f\"Open this URL in your browser, log in, and copy the cookies back here:\\n{login_url}\")\n",
    "\n",
    "# 2. Paste your cookies after logging in (from your browser's dev tools, for the app domain)\n",
    "cookies = {\n",
    "    # Example: 'AppServiceAuthSession': 'eyJ...'\n",
    "    # Fill in your session cookie(s) here!\n",
    "}\n",
    "\n",
    "# 3. Call /.auth/me with your session cookie\n",
    "me_url = urljoin(BASE_URL, \"/.auth/me\")\n",
    "response = requests.get(me_url, cookies=cookies)\n",
    "\n",
    "print(\"Status code:\", response.status_code)\n",
    "print(\"Response JSON:\")\n",
    "print(response.json())"
   ]
  }
 ],
 "metadata": {
  "kernelspec": {
   "display_name": "ai-agents",
   "language": "python",
   "name": "python3"
  },
  "language_info": {
   "codemirror_mode": {
    "name": "ipython",
    "version": 3
   },
   "file_extension": ".py",
   "mimetype": "text/x-python",
   "name": "python",
   "nbconvert_exporter": "python",
   "pygments_lexer": "ipython3",
   "version": "3.12.9"
  }
 },
 "nbformat": 4,
 "nbformat_minor": 5
}
